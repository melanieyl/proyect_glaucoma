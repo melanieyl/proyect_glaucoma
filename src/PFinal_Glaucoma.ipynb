{
 "cells": [
  {
   "cell_type": "markdown",
   "id": "82938d148b6f3920",
   "metadata": {},
   "source": [
    "### importar librerías"
   ]
  },
  {
   "cell_type": "code",
   "execution_count": null,
   "id": "initial_id",
   "metadata": {
    "ExecuteTime": {
     "end_time": "2025-06-08T03:15:10.783592Z",
     "start_time": "2025-06-08T03:15:10.780229Z"
    },
    "collapsed": true
   },
   "outputs": [],
   "source": [
    "import os\n",
    "import random\n",
    "from calendar import EPOCH\n",
    "\n",
    "import pandas as pd\n",
    "import numpy as np\n",
    "import matplotlib.pyplot as plt\n",
    "import pickle\n",
    "\n",
    "from alembic.command import history\n",
    "from keras.src.metrics.metrics_utils import confusion_matrix\n",
    "from sklearn.model_selection import train_test_split\n",
    "from sklearn.metrics import accuracy_score, precision_score, recall_score, log_loss, confusion_matrix, roc_curve, ConfusionMatrixDisplay, RocCurveDisplay\n",
    "\n",
    "import tensorflow as tf\n",
    "import tensorflow_datasets as tfds\n",
    "from tensorflow.keras.preprocessing.image import load_img, img_to_array\n",
    "from tensorflow.python.keras.saving.saved_model.load import training_lib\n",
    "\n",
    "IMAGES_DIR = \"../data/papila-db/FundusImages/\""
   ]
  },
  {
   "cell_type": "markdown",
   "id": "a7820ee57109d2b3",
   "metadata": {},
   "source": [
    "### obtener datos"
   ]
  },
  {
   "cell_type": "code",
   "execution_count": null,
   "id": "e52b80d53309078a",
   "metadata": {
    "ExecuteTime": {
     "end_time": "2025-06-08T03:15:10.848752Z",
     "start_time": "2025-06-08T03:15:10.805811Z"
    }
   },
   "outputs": [],
   "source": []
  },
  {
   "cell_type": "code",
   "execution_count": null,
   "id": "70582edb",
   "metadata": {},
   "outputs": [],
   "source": [
    "import openpyxl\n",
    "df_od = pd.read_excel(\"../data/papila-db/ClinicalData/patient_data_od.xlsx\", header=1, skiprows=[2])\n",
    "df_os = pd.read_excel(\"../data/papila-db/ClinicalData/patient_data_os.xlsx\", header=1, skiprows=[2])"
   ]
  },
  {
   "cell_type": "code",
   "execution_count": 39,
   "id": "6d333e8b5c01d782",
   "metadata": {
    "ExecuteTime": {
     "end_time": "2025-06-08T03:15:10.878208Z",
     "start_time": "2025-06-08T03:15:10.868657Z"
    }
   },
   "outputs": [
    {
     "data": {
      "text/html": [
       "<div>\n",
       "<style scoped>\n",
       "    .dataframe tbody tr th:only-of-type {\n",
       "        vertical-align: middle;\n",
       "    }\n",
       "\n",
       "    .dataframe tbody tr th {\n",
       "        vertical-align: top;\n",
       "    }\n",
       "\n",
       "    .dataframe thead th {\n",
       "        text-align: right;\n",
       "    }\n",
       "</style>\n",
       "<table border=\"1\" class=\"dataframe\">\n",
       "  <thead>\n",
       "    <tr style=\"text-align: right;\">\n",
       "      <th></th>\n",
       "      <th>Unnamed: 0</th>\n",
       "      <th>Age</th>\n",
       "      <th>Gender</th>\n",
       "      <th>Diagnosis</th>\n",
       "      <th>dioptre_1</th>\n",
       "      <th>dioptre_2</th>\n",
       "      <th>astigmatism</th>\n",
       "      <th>Phakic/Pseudophakic</th>\n",
       "      <th>Pneumatic</th>\n",
       "      <th>Perkins</th>\n",
       "      <th>Pachymetry</th>\n",
       "      <th>Axial_Length</th>\n",
       "      <th>VF_MD</th>\n",
       "    </tr>\n",
       "  </thead>\n",
       "  <tbody>\n",
       "    <tr>\n",
       "      <th>0</th>\n",
       "      <td>#002</td>\n",
       "      <td>47</td>\n",
       "      <td>0</td>\n",
       "      <td>2</td>\n",
       "      <td>0.75</td>\n",
       "      <td>-1.75</td>\n",
       "      <td>90.0</td>\n",
       "      <td>0.0</td>\n",
       "      <td>21.0</td>\n",
       "      <td>NaN</td>\n",
       "      <td>586.0</td>\n",
       "      <td>23.64</td>\n",
       "      <td>-0.07</td>\n",
       "    </tr>\n",
       "    <tr>\n",
       "      <th>1</th>\n",
       "      <td>#004</td>\n",
       "      <td>58</td>\n",
       "      <td>1</td>\n",
       "      <td>1</td>\n",
       "      <td>1.50</td>\n",
       "      <td>-1.75</td>\n",
       "      <td>85.0</td>\n",
       "      <td>0.0</td>\n",
       "      <td>NaN</td>\n",
       "      <td>19.0</td>\n",
       "      <td>501.0</td>\n",
       "      <td>23.06</td>\n",
       "      <td>-3.26</td>\n",
       "    </tr>\n",
       "    <tr>\n",
       "      <th>2</th>\n",
       "      <td>#005</td>\n",
       "      <td>89</td>\n",
       "      <td>1</td>\n",
       "      <td>1</td>\n",
       "      <td>-0.75</td>\n",
       "      <td>-1.25</td>\n",
       "      <td>101.0</td>\n",
       "      <td>1.0</td>\n",
       "      <td>13.0</td>\n",
       "      <td>14.0</td>\n",
       "      <td>565.0</td>\n",
       "      <td>23.81</td>\n",
       "      <td>-14.98</td>\n",
       "    </tr>\n",
       "    <tr>\n",
       "      <th>3</th>\n",
       "      <td>#006</td>\n",
       "      <td>69</td>\n",
       "      <td>0</td>\n",
       "      <td>2</td>\n",
       "      <td>1.00</td>\n",
       "      <td>-1.50</td>\n",
       "      <td>95.0</td>\n",
       "      <td>0.0</td>\n",
       "      <td>22.0</td>\n",
       "      <td>NaN</td>\n",
       "      <td>612.0</td>\n",
       "      <td>26.25</td>\n",
       "      <td>-2.07</td>\n",
       "    </tr>\n",
       "    <tr>\n",
       "      <th>4</th>\n",
       "      <td>#007</td>\n",
       "      <td>22</td>\n",
       "      <td>1</td>\n",
       "      <td>2</td>\n",
       "      <td>-0.25</td>\n",
       "      <td>0.00</td>\n",
       "      <td>0.0</td>\n",
       "      <td>0.0</td>\n",
       "      <td>14.0</td>\n",
       "      <td>NaN</td>\n",
       "      <td>NaN</td>\n",
       "      <td>23.39</td>\n",
       "      <td>-2.30</td>\n",
       "    </tr>\n",
       "    <tr>\n",
       "      <th>...</th>\n",
       "      <td>...</td>\n",
       "      <td>...</td>\n",
       "      <td>...</td>\n",
       "      <td>...</td>\n",
       "      <td>...</td>\n",
       "      <td>...</td>\n",
       "      <td>...</td>\n",
       "      <td>...</td>\n",
       "      <td>...</td>\n",
       "      <td>...</td>\n",
       "      <td>...</td>\n",
       "      <td>...</td>\n",
       "      <td>...</td>\n",
       "    </tr>\n",
       "    <tr>\n",
       "      <th>239</th>\n",
       "      <td>#289</td>\n",
       "      <td>64</td>\n",
       "      <td>0</td>\n",
       "      <td>0</td>\n",
       "      <td>0.50</td>\n",
       "      <td>-1.00</td>\n",
       "      <td>120.0</td>\n",
       "      <td>1.0</td>\n",
       "      <td>12.0</td>\n",
       "      <td>NaN</td>\n",
       "      <td>529.0</td>\n",
       "      <td>22.27</td>\n",
       "      <td>NaN</td>\n",
       "    </tr>\n",
       "    <tr>\n",
       "      <th>240</th>\n",
       "      <td>#290</td>\n",
       "      <td>75</td>\n",
       "      <td>1</td>\n",
       "      <td>0</td>\n",
       "      <td>0.25</td>\n",
       "      <td>-0.25</td>\n",
       "      <td>5.0</td>\n",
       "      <td>1.0</td>\n",
       "      <td>14.0</td>\n",
       "      <td>NaN</td>\n",
       "      <td>577.0</td>\n",
       "      <td>22.00</td>\n",
       "      <td>NaN</td>\n",
       "    </tr>\n",
       "    <tr>\n",
       "      <th>241</th>\n",
       "      <td>#291</td>\n",
       "      <td>55</td>\n",
       "      <td>0</td>\n",
       "      <td>0</td>\n",
       "      <td>1.25</td>\n",
       "      <td>-1.25</td>\n",
       "      <td>92.0</td>\n",
       "      <td>0.0</td>\n",
       "      <td>12.0</td>\n",
       "      <td>NaN</td>\n",
       "      <td>452.0</td>\n",
       "      <td>23.53</td>\n",
       "      <td>NaN</td>\n",
       "    </tr>\n",
       "    <tr>\n",
       "      <th>242</th>\n",
       "      <td>#292</td>\n",
       "      <td>56</td>\n",
       "      <td>1</td>\n",
       "      <td>0</td>\n",
       "      <td>1.75</td>\n",
       "      <td>-1.50</td>\n",
       "      <td>73.0</td>\n",
       "      <td>0.0</td>\n",
       "      <td>10.0</td>\n",
       "      <td>NaN</td>\n",
       "      <td>499.0</td>\n",
       "      <td>23.68</td>\n",
       "      <td>NaN</td>\n",
       "    </tr>\n",
       "    <tr>\n",
       "      <th>243</th>\n",
       "      <td>#293</td>\n",
       "      <td>39</td>\n",
       "      <td>1</td>\n",
       "      <td>0</td>\n",
       "      <td>-0.25</td>\n",
       "      <td>-0.75</td>\n",
       "      <td>155.0</td>\n",
       "      <td>0.0</td>\n",
       "      <td>12.0</td>\n",
       "      <td>NaN</td>\n",
       "      <td>480.0</td>\n",
       "      <td>24.00</td>\n",
       "      <td>NaN</td>\n",
       "    </tr>\n",
       "  </tbody>\n",
       "</table>\n",
       "<p>244 rows × 13 columns</p>\n",
       "</div>"
      ],
      "text/plain": [
       "    Unnamed: 0  Age  Gender  Diagnosis  dioptre_1  dioptre_2  astigmatism  \\\n",
       "0         #002   47       0          2       0.75      -1.75         90.0   \n",
       "1         #004   58       1          1       1.50      -1.75         85.0   \n",
       "2         #005   89       1          1      -0.75      -1.25        101.0   \n",
       "3         #006   69       0          2       1.00      -1.50         95.0   \n",
       "4         #007   22       1          2      -0.25       0.00          0.0   \n",
       "..         ...  ...     ...        ...        ...        ...          ...   \n",
       "239       #289   64       0          0       0.50      -1.00        120.0   \n",
       "240       #290   75       1          0       0.25      -0.25          5.0   \n",
       "241       #291   55       0          0       1.25      -1.25         92.0   \n",
       "242       #292   56       1          0       1.75      -1.50         73.0   \n",
       "243       #293   39       1          0      -0.25      -0.75        155.0   \n",
       "\n",
       "     Phakic/Pseudophakic  Pneumatic  Perkins  Pachymetry  Axial_Length  VF_MD  \n",
       "0                    0.0       21.0      NaN       586.0         23.64  -0.07  \n",
       "1                    0.0        NaN     19.0       501.0         23.06  -3.26  \n",
       "2                    1.0       13.0     14.0       565.0         23.81 -14.98  \n",
       "3                    0.0       22.0      NaN       612.0         26.25  -2.07  \n",
       "4                    0.0       14.0      NaN         NaN         23.39  -2.30  \n",
       "..                   ...        ...      ...         ...           ...    ...  \n",
       "239                  1.0       12.0      NaN       529.0         22.27    NaN  \n",
       "240                  1.0       14.0      NaN       577.0         22.00    NaN  \n",
       "241                  0.0       12.0      NaN       452.0         23.53    NaN  \n",
       "242                  0.0       10.0      NaN       499.0         23.68    NaN  \n",
       "243                  0.0       12.0      NaN       480.0         24.00    NaN  \n",
       "\n",
       "[244 rows x 13 columns]"
      ]
     },
     "execution_count": 39,
     "metadata": {},
     "output_type": "execute_result"
    }
   ],
   "source": [
    "df_od"
   ]
  },
  {
   "cell_type": "code",
   "execution_count": 40,
   "id": "8e592df22b24dfce",
   "metadata": {
    "ExecuteTime": {
     "end_time": "2025-06-08T03:15:10.936792Z",
     "start_time": "2025-06-08T03:15:10.925624Z"
    }
   },
   "outputs": [
    {
     "data": {
      "text/html": [
       "<div>\n",
       "<style scoped>\n",
       "    .dataframe tbody tr th:only-of-type {\n",
       "        vertical-align: middle;\n",
       "    }\n",
       "\n",
       "    .dataframe tbody tr th {\n",
       "        vertical-align: top;\n",
       "    }\n",
       "\n",
       "    .dataframe thead th {\n",
       "        text-align: right;\n",
       "    }\n",
       "</style>\n",
       "<table border=\"1\" class=\"dataframe\">\n",
       "  <thead>\n",
       "    <tr style=\"text-align: right;\">\n",
       "      <th></th>\n",
       "      <th>Unnamed: 0</th>\n",
       "      <th>Age</th>\n",
       "      <th>Gender</th>\n",
       "      <th>Diagnosis</th>\n",
       "      <th>dioptre_1</th>\n",
       "      <th>dioptre_2</th>\n",
       "      <th>astigmatism</th>\n",
       "      <th>Phakic/Pseudophakic</th>\n",
       "      <th>Pneumatic</th>\n",
       "      <th>Perkins</th>\n",
       "      <th>Pachymetry</th>\n",
       "      <th>Axial_Length</th>\n",
       "      <th>VF_MD</th>\n",
       "    </tr>\n",
       "  </thead>\n",
       "  <tbody>\n",
       "    <tr>\n",
       "      <th>0</th>\n",
       "      <td>#002</td>\n",
       "      <td>47</td>\n",
       "      <td>0</td>\n",
       "      <td>2</td>\n",
       "      <td>-0.50</td>\n",
       "      <td>-1.50</td>\n",
       "      <td>88.0</td>\n",
       "      <td>0.0</td>\n",
       "      <td>20.0</td>\n",
       "      <td>NaN</td>\n",
       "      <td>603.0</td>\n",
       "      <td>23.77</td>\n",
       "      <td>0.17</td>\n",
       "    </tr>\n",
       "    <tr>\n",
       "      <th>1</th>\n",
       "      <td>#004</td>\n",
       "      <td>58</td>\n",
       "      <td>1</td>\n",
       "      <td>1</td>\n",
       "      <td>1.50</td>\n",
       "      <td>-2.50</td>\n",
       "      <td>85.0</td>\n",
       "      <td>1.0</td>\n",
       "      <td>NaN</td>\n",
       "      <td>19.0</td>\n",
       "      <td>511.0</td>\n",
       "      <td>22.96</td>\n",
       "      <td>-6.77</td>\n",
       "    </tr>\n",
       "    <tr>\n",
       "      <th>2</th>\n",
       "      <td>#005</td>\n",
       "      <td>89</td>\n",
       "      <td>1</td>\n",
       "      <td>1</td>\n",
       "      <td>-0.50</td>\n",
       "      <td>-2.00</td>\n",
       "      <td>100.0</td>\n",
       "      <td>1.0</td>\n",
       "      <td>24.0</td>\n",
       "      <td>10.0</td>\n",
       "      <td>575.0</td>\n",
       "      <td>24.33</td>\n",
       "      <td>-7.44</td>\n",
       "    </tr>\n",
       "    <tr>\n",
       "      <th>3</th>\n",
       "      <td>#006</td>\n",
       "      <td>69</td>\n",
       "      <td>0</td>\n",
       "      <td>2</td>\n",
       "      <td>1.00</td>\n",
       "      <td>-1.50</td>\n",
       "      <td>85.0</td>\n",
       "      <td>0.0</td>\n",
       "      <td>22.0</td>\n",
       "      <td>NaN</td>\n",
       "      <td>593.0</td>\n",
       "      <td>26.21</td>\n",
       "      <td>-3.31</td>\n",
       "    </tr>\n",
       "    <tr>\n",
       "      <th>4</th>\n",
       "      <td>#007</td>\n",
       "      <td>22</td>\n",
       "      <td>1</td>\n",
       "      <td>2</td>\n",
       "      <td>-0.25</td>\n",
       "      <td>-0.50</td>\n",
       "      <td>0.0</td>\n",
       "      <td>0.0</td>\n",
       "      <td>13.0</td>\n",
       "      <td>NaN</td>\n",
       "      <td>NaN</td>\n",
       "      <td>23.35</td>\n",
       "      <td>-2.61</td>\n",
       "    </tr>\n",
       "    <tr>\n",
       "      <th>...</th>\n",
       "      <td>...</td>\n",
       "      <td>...</td>\n",
       "      <td>...</td>\n",
       "      <td>...</td>\n",
       "      <td>...</td>\n",
       "      <td>...</td>\n",
       "      <td>...</td>\n",
       "      <td>...</td>\n",
       "      <td>...</td>\n",
       "      <td>...</td>\n",
       "      <td>...</td>\n",
       "      <td>...</td>\n",
       "      <td>...</td>\n",
       "    </tr>\n",
       "    <tr>\n",
       "      <th>239</th>\n",
       "      <td>#289</td>\n",
       "      <td>64</td>\n",
       "      <td>0</td>\n",
       "      <td>0</td>\n",
       "      <td>0.75</td>\n",
       "      <td>-1.50</td>\n",
       "      <td>93.0</td>\n",
       "      <td>1.0</td>\n",
       "      <td>10.0</td>\n",
       "      <td>NaN</td>\n",
       "      <td>531.0</td>\n",
       "      <td>22.31</td>\n",
       "      <td>NaN</td>\n",
       "    </tr>\n",
       "    <tr>\n",
       "      <th>240</th>\n",
       "      <td>#290</td>\n",
       "      <td>75</td>\n",
       "      <td>1</td>\n",
       "      <td>0</td>\n",
       "      <td>0.25</td>\n",
       "      <td>-0.25</td>\n",
       "      <td>160.0</td>\n",
       "      <td>1.0</td>\n",
       "      <td>19.0</td>\n",
       "      <td>NaN</td>\n",
       "      <td>573.0</td>\n",
       "      <td>22.01</td>\n",
       "      <td>NaN</td>\n",
       "    </tr>\n",
       "    <tr>\n",
       "      <th>241</th>\n",
       "      <td>#291</td>\n",
       "      <td>55</td>\n",
       "      <td>0</td>\n",
       "      <td>0</td>\n",
       "      <td>1.50</td>\n",
       "      <td>-1.25</td>\n",
       "      <td>76.0</td>\n",
       "      <td>0.0</td>\n",
       "      <td>14.0</td>\n",
       "      <td>NaN</td>\n",
       "      <td>443.0</td>\n",
       "      <td>23.51</td>\n",
       "      <td>NaN</td>\n",
       "    </tr>\n",
       "    <tr>\n",
       "      <th>242</th>\n",
       "      <td>#292</td>\n",
       "      <td>56</td>\n",
       "      <td>1</td>\n",
       "      <td>0</td>\n",
       "      <td>1.25</td>\n",
       "      <td>-0.75</td>\n",
       "      <td>79.0</td>\n",
       "      <td>0.0</td>\n",
       "      <td>9.0</td>\n",
       "      <td>NaN</td>\n",
       "      <td>479.0</td>\n",
       "      <td>23.84</td>\n",
       "      <td>NaN</td>\n",
       "    </tr>\n",
       "    <tr>\n",
       "      <th>243</th>\n",
       "      <td>#293</td>\n",
       "      <td>39</td>\n",
       "      <td>1</td>\n",
       "      <td>0</td>\n",
       "      <td>-0.75</td>\n",
       "      <td>-0.25</td>\n",
       "      <td>110.0</td>\n",
       "      <td>0.0</td>\n",
       "      <td>14.0</td>\n",
       "      <td>NaN</td>\n",
       "      <td>468.0</td>\n",
       "      <td>24.00</td>\n",
       "      <td>NaN</td>\n",
       "    </tr>\n",
       "  </tbody>\n",
       "</table>\n",
       "<p>244 rows × 13 columns</p>\n",
       "</div>"
      ],
      "text/plain": [
       "    Unnamed: 0  Age  Gender  Diagnosis  dioptre_1  dioptre_2  astigmatism  \\\n",
       "0         #002   47       0          2      -0.50      -1.50         88.0   \n",
       "1         #004   58       1          1       1.50      -2.50         85.0   \n",
       "2         #005   89       1          1      -0.50      -2.00        100.0   \n",
       "3         #006   69       0          2       1.00      -1.50         85.0   \n",
       "4         #007   22       1          2      -0.25      -0.50          0.0   \n",
       "..         ...  ...     ...        ...        ...        ...          ...   \n",
       "239       #289   64       0          0       0.75      -1.50         93.0   \n",
       "240       #290   75       1          0       0.25      -0.25        160.0   \n",
       "241       #291   55       0          0       1.50      -1.25         76.0   \n",
       "242       #292   56       1          0       1.25      -0.75         79.0   \n",
       "243       #293   39       1          0      -0.75      -0.25        110.0   \n",
       "\n",
       "     Phakic/Pseudophakic  Pneumatic  Perkins  Pachymetry  Axial_Length  VF_MD  \n",
       "0                    0.0       20.0      NaN       603.0         23.77   0.17  \n",
       "1                    1.0        NaN     19.0       511.0         22.96  -6.77  \n",
       "2                    1.0       24.0     10.0       575.0         24.33  -7.44  \n",
       "3                    0.0       22.0      NaN       593.0         26.21  -3.31  \n",
       "4                    0.0       13.0      NaN         NaN         23.35  -2.61  \n",
       "..                   ...        ...      ...         ...           ...    ...  \n",
       "239                  1.0       10.0      NaN       531.0         22.31    NaN  \n",
       "240                  1.0       19.0      NaN       573.0         22.01    NaN  \n",
       "241                  0.0       14.0      NaN       443.0         23.51    NaN  \n",
       "242                  0.0        9.0      NaN       479.0         23.84    NaN  \n",
       "243                  0.0       14.0      NaN       468.0         24.00    NaN  \n",
       "\n",
       "[244 rows x 13 columns]"
      ]
     },
     "execution_count": 40,
     "metadata": {},
     "output_type": "execute_result"
    }
   ],
   "source": [
    "df_os"
   ]
  },
  {
   "cell_type": "code",
   "execution_count": 41,
   "id": "e127e4ff16387ae7",
   "metadata": {
    "ExecuteTime": {
     "end_time": "2025-06-08T03:15:11.038072Z",
     "start_time": "2025-06-08T03:15:11.025706Z"
    }
   },
   "outputs": [
    {
     "data": {
      "text/plain": [
       "(0      RET002OD.jpg\n",
       " 1      RET004OD.jpg\n",
       " 2      RET005OD.jpg\n",
       " 3      RET006OD.jpg\n",
       " 4      RET007OD.jpg\n",
       "            ...     \n",
       " 239    RET289OD.jpg\n",
       " 240    RET290OD.jpg\n",
       " 241    RET291OD.jpg\n",
       " 242    RET292OD.jpg\n",
       " 243    RET293OD.jpg\n",
       " Name: Unnamed: 0, Length: 244, dtype: object,\n",
       " 0      2\n",
       " 1      1\n",
       " 2      1\n",
       " 3      2\n",
       " 4      2\n",
       "       ..\n",
       " 239    0\n",
       " 240    0\n",
       " 241    0\n",
       " 242    0\n",
       " 243    0\n",
       " Name: Diagnosis, Length: 244, dtype: int64)"
      ]
     },
     "execution_count": 41,
     "metadata": {},
     "output_type": "execute_result"
    }
   ],
   "source": [
    "X_od = \"RET\" + df_od[\"Unnamed: 0\"].astype(str).str[1:] + \"OD.jpg\"\n",
    "y_od = df_od[\"Diagnosis\"]\n",
    "\n",
    "X_od, y_od"
   ]
  },
  {
   "cell_type": "markdown",
   "id": "ae9194da39fd01b9",
   "metadata": {},
   "source": [
    "### cargar imagenes"
   ]
  },
  {
   "cell_type": "code",
   "execution_count": 42,
   "id": "2800faa8e217e9b9",
   "metadata": {
    "ExecuteTime": {
     "end_time": "2025-06-08T03:15:11.154035Z",
     "start_time": "2025-06-08T03:15:11.150056Z"
    }
   },
   "outputs": [],
   "source": [
    "import cv2\n",
    "\n",
    "def load_image(file_name):\n",
    "    try:\n",
    "        # Construye la ruta de forma segura\n",
    "        image_path = os.path.join(IMAGES_DIR, file_name)\n",
    "\n",
    "        img = cv2.imread(image_path)\n",
    "\n",
    "        # Verifica si la imagen se cargó correctamente ANTES de procesarla\n",
    "        if img is None:\n",
    "            print(f\"Alerta: No se pudo cargar la imagen. Archivo no encontrado en: {image_path}\")\n",
    "            return None\n",
    "\n",
    "        img = cv2.cvtColor(img, cv2.COLOR_BGR2RGB)\n",
    "        img = cv2.resize(img, (644, 484))\n",
    "        return img\n",
    "    except Exception as e:\n",
    "        # Usa un f-string para imprimir el error correctamente\n",
    "        print(f\"Error procesando la imagen '{file_name}': {e}\")\n",
    "        return None"
   ]
  },
  {
   "cell_type": "code",
   "execution_count": 43,
   "id": "27ec4ede3cfb9609",
   "metadata": {
    "ExecuteTime": {
     "end_time": "2025-06-08T03:15:16.474626Z",
     "start_time": "2025-06-08T03:15:11.229266Z"
    }
   },
   "outputs": [],
   "source": [
    "# Código Corregido\n",
    "# 1. Cargamos las imágenes en una lista temporal\n",
    "images_list = [load_image(file_name) for file_name in X_od]\n",
    "\n",
    "# 2. Filtramos los valores 'None' que resultaron de errores de carga\n",
    "X_od_filtered = [img for img in images_list if img is not None]\n",
    "\n",
    "# 3. Solo ahora creamos el array de NumPy con la lista limpia\n",
    "X_od = np.array(X_od_filtered)\n",
    "y_od = df_od[\"Diagnosis\"].values"
   ]
  },
  {
   "cell_type": "code",
   "execution_count": 44,
   "id": "71dc962e35324030",
   "metadata": {
    "ExecuteTime": {
     "end_time": "2025-06-08T03:15:16.497482Z",
     "start_time": "2025-06-08T03:15:16.494088Z"
    }
   },
   "outputs": [
    {
     "name": "stdout",
     "output_type": "stream",
     "text": [
      "Dimensión de imágenes: (244, 484, 644, 3)\n",
      "Total categorías: 3\n"
     ]
    }
   ],
   "source": [
    "print(f\"Dimensión de imágenes: {X_od.shape}\")\n",
    "print(f\"Total categorías: {len(np.unique(y_od))}\")"
   ]
  },
  {
   "cell_type": "markdown",
   "id": "d85820cd5d3df0b3",
   "metadata": {},
   "source": [
    "### dividir en train y test"
   ]
  },
  {
   "cell_type": "code",
   "execution_count": 45,
   "id": "f5328e7877c0f424",
   "metadata": {
    "ExecuteTime": {
     "end_time": "2025-06-08T03:15:16.572527Z",
     "start_time": "2025-06-08T03:15:16.519583Z"
    }
   },
   "outputs": [],
   "source": [
    "X_train, X_test, y_train, y_test = train_test_split(X_od, y_od, test_size=0.1, random_state=42)"
   ]
  },
  {
   "cell_type": "code",
   "execution_count": 46,
   "id": "d54dea81f60b5f03",
   "metadata": {
    "ExecuteTime": {
     "end_time": "2025-06-08T03:15:16.595833Z",
     "start_time": "2025-06-08T03:15:16.592561Z"
    }
   },
   "outputs": [
    {
     "name": "stdout",
     "output_type": "stream",
     "text": [
      "Tamaño del conjunto de entrenamiento: 219\n",
      "Tamaño del conjunto de prueba: 25\n"
     ]
    }
   ],
   "source": [
    "print(f\"Tamaño del conjunto de entrenamiento: {len(X_train)}\")\n",
    "print(f\"Tamaño del conjunto de prueba: {len(X_test)}\")"
   ]
  },
  {
   "cell_type": "markdown",
   "id": "90f5887c1a9807dd",
   "metadata": {},
   "source": [
    "### Normalizar y Cargado en Bloque"
   ]
  },
  {
   "cell_type": "code",
   "execution_count": 47,
   "id": "ce9f84dacd621945",
   "metadata": {
    "ExecuteTime": {
     "end_time": "2025-06-08T03:15:16.627382Z",
     "start_time": "2025-06-08T03:15:16.624068Z"
    }
   },
   "outputs": [],
   "source": [
    "def normalize(image, label):\n",
    "    image = tf.cast(image, tf.float32)\n",
    "    image /= 255\n",
    "    return image, label\n",
    "\n",
    "def prepare_subset(images, labels, batch_size):\n",
    "    subset = tf.data.Dataset.from_tensor_slices((images, labels))\n",
    "    batches = subset.cache()\n",
    "    batches = batches.shuffle(len(images) // 4)\n",
    "    batches = batches.batch(batch_size).map(normalize).prefetch(1)\n",
    "    return batches"
   ]
  },
  {
   "cell_type": "code",
   "execution_count": 48,
   "id": "e7dd7f0ea6bdcc52",
   "metadata": {
    "ExecuteTime": {
     "end_time": "2025-06-08T03:15:16.844411Z",
     "start_time": "2025-06-08T03:15:16.657608Z"
    }
   },
   "outputs": [
    {
     "name": "stdout",
     "output_type": "stream",
     "text": [
      "Image batch shape:  (25, 484, 644, 3)\n",
      "dtype:  <dtype: 'float32'>\n",
      "Etiquetas: tf.Tensor([1 0 0 0 0 0 2 0 0 0 0 1 0 0 0 0 0 0 0 0 0 0 0 2 1], shape=(25,), dtype=int64)\n"
     ]
    }
   ],
   "source": [
    "BATCH_SIZE = 25\n",
    "\n",
    "training_batches = prepare_subset(X_train, y_train, BATCH_SIZE)\n",
    "testing_batches = prepare_subset(X_test, y_test, BATCH_SIZE)\n",
    "\n",
    "for image_batch, label_batch in training_batches.take(1):\n",
    "    print('Image batch shape: ', image_batch.shape)\n",
    "    print('dtype: ', image_batch.dtype)\n",
    "    print('Etiquetas:', label_batch)"
   ]
  },
  {
   "cell_type": "markdown",
   "id": "1ff8dca5065c9535",
   "metadata": {},
   "source": [
    "### Modelación"
   ]
  },
  {
   "cell_type": "code",
   "execution_count": 49,
   "id": "af8148a45579333f",
   "metadata": {
    "ExecuteTime": {
     "end_time": "2025-06-08T03:15:17.085722Z",
     "start_time": "2025-06-08T03:15:16.869661Z"
    }
   },
   "outputs": [
    {
     "name": "stdout",
     "output_type": "stream",
     "text": [
      "WARNING:tensorflow:From c:\\Users\\darwi\\anaconda3\\envs\\m13_proyecto_glaucoma\\lib\\site-packages\\keras\\src\\backend\\common\\global_state.py:82: The name tf.reset_default_graph is deprecated. Please use tf.compat.v1.reset_default_graph instead.\n",
      "\n"
     ]
    },
    {
     "name": "stderr",
     "output_type": "stream",
     "text": [
      "c:\\Users\\darwi\\anaconda3\\envs\\m13_proyecto_glaucoma\\lib\\site-packages\\keras\\src\\layers\\reshaping\\flatten.py:37: UserWarning: Do not pass an `input_shape`/`input_dim` argument to a layer. When using Sequential models, prefer using an `Input(shape)` object as the first layer in the model instead.\n",
      "  super().__init__(**kwargs)\n"
     ]
    }
   ],
   "source": [
    "from tensorflow.keras.layers import Conv2D, MaxPooling2D, Flatten, Dense, Dropout\n",
    "\n",
    "tf.keras.backend.clear_session()\n",
    "\n",
    "'''\n",
    "model = tf.keras.models.Sequential([\n",
    "\n",
    "    Conv2D(32, (3, 3), activation='relu', input_shape=(484, 644, 3)),\n",
    "    MaxPooling2D(pool_size=(2, 2)),\n",
    "\n",
    "    Conv2D(64, (3, 3), activation='relu'),\n",
    "    MaxPooling2D(pool_size=(2, 2)),\n",
    "\n",
    "    Flatten(),\n",
    "    Dense(128, activation='relu'),\n",
    "    Dropout(0.5),\n",
    "\n",
    "    Dense(64, activation='relu'),\n",
    "    Dense(3, activation='softmax')\n",
    "])\n",
    "'''\n",
    "\n",
    "model = tf.keras.models.Sequential([\n",
    "    Flatten(input_shape=(484, 644, 3)),\n",
    "    Dense(128, activation='relu'),\n",
    "    Dense(64, activation='relu'),\n",
    "    Dense(3, activation='softmax')\n",
    "])\n"
   ]
  },
  {
   "cell_type": "code",
   "execution_count": 50,
   "id": "4c9f9f504c165739",
   "metadata": {
    "ExecuteTime": {
     "end_time": "2025-06-08T03:15:17.106770Z",
     "start_time": "2025-06-08T03:15:17.091808Z"
    }
   },
   "outputs": [
    {
     "data": {
      "text/html": [
       "<pre style=\"white-space:pre;overflow-x:auto;line-height:normal;font-family:Menlo,'DejaVu Sans Mono',consolas,'Courier New',monospace\"><span style=\"font-weight: bold\">Model: \"sequential\"</span>\n",
       "</pre>\n"
      ],
      "text/plain": [
       "\u001b[1mModel: \"sequential\"\u001b[0m\n"
      ]
     },
     "metadata": {},
     "output_type": "display_data"
    },
    {
     "data": {
      "text/html": [
       "<pre style=\"white-space:pre;overflow-x:auto;line-height:normal;font-family:Menlo,'DejaVu Sans Mono',consolas,'Courier New',monospace\">┏━━━━━━━━━━━━━━━━━━━━━━━━━━━━━━━━━┳━━━━━━━━━━━━━━━━━━━━━━━━┳━━━━━━━━━━━━━━━┓\n",
       "┃<span style=\"font-weight: bold\"> Layer (type)                    </span>┃<span style=\"font-weight: bold\"> Output Shape           </span>┃<span style=\"font-weight: bold\">       Param # </span>┃\n",
       "┡━━━━━━━━━━━━━━━━━━━━━━━━━━━━━━━━━╇━━━━━━━━━━━━━━━━━━━━━━━━╇━━━━━━━━━━━━━━━┩\n",
       "│ flatten (<span style=\"color: #0087ff; text-decoration-color: #0087ff\">Flatten</span>)               │ (<span style=\"color: #00d7ff; text-decoration-color: #00d7ff\">None</span>, <span style=\"color: #00af00; text-decoration-color: #00af00\">935088</span>)         │             <span style=\"color: #00af00; text-decoration-color: #00af00\">0</span> │\n",
       "├─────────────────────────────────┼────────────────────────┼───────────────┤\n",
       "│ dense (<span style=\"color: #0087ff; text-decoration-color: #0087ff\">Dense</span>)                   │ (<span style=\"color: #00d7ff; text-decoration-color: #00d7ff\">None</span>, <span style=\"color: #00af00; text-decoration-color: #00af00\">128</span>)            │   <span style=\"color: #00af00; text-decoration-color: #00af00\">119,691,392</span> │\n",
       "├─────────────────────────────────┼────────────────────────┼───────────────┤\n",
       "│ dense_1 (<span style=\"color: #0087ff; text-decoration-color: #0087ff\">Dense</span>)                 │ (<span style=\"color: #00d7ff; text-decoration-color: #00d7ff\">None</span>, <span style=\"color: #00af00; text-decoration-color: #00af00\">64</span>)             │         <span style=\"color: #00af00; text-decoration-color: #00af00\">8,256</span> │\n",
       "├─────────────────────────────────┼────────────────────────┼───────────────┤\n",
       "│ dense_2 (<span style=\"color: #0087ff; text-decoration-color: #0087ff\">Dense</span>)                 │ (<span style=\"color: #00d7ff; text-decoration-color: #00d7ff\">None</span>, <span style=\"color: #00af00; text-decoration-color: #00af00\">3</span>)              │           <span style=\"color: #00af00; text-decoration-color: #00af00\">195</span> │\n",
       "└─────────────────────────────────┴────────────────────────┴───────────────┘\n",
       "</pre>\n"
      ],
      "text/plain": [
       "┏━━━━━━━━━━━━━━━━━━━━━━━━━━━━━━━━━┳━━━━━━━━━━━━━━━━━━━━━━━━┳━━━━━━━━━━━━━━━┓\n",
       "┃\u001b[1m \u001b[0m\u001b[1mLayer (type)                   \u001b[0m\u001b[1m \u001b[0m┃\u001b[1m \u001b[0m\u001b[1mOutput Shape          \u001b[0m\u001b[1m \u001b[0m┃\u001b[1m \u001b[0m\u001b[1m      Param #\u001b[0m\u001b[1m \u001b[0m┃\n",
       "┡━━━━━━━━━━━━━━━━━━━━━━━━━━━━━━━━━╇━━━━━━━━━━━━━━━━━━━━━━━━╇━━━━━━━━━━━━━━━┩\n",
       "│ flatten (\u001b[38;5;33mFlatten\u001b[0m)               │ (\u001b[38;5;45mNone\u001b[0m, \u001b[38;5;34m935088\u001b[0m)         │             \u001b[38;5;34m0\u001b[0m │\n",
       "├─────────────────────────────────┼────────────────────────┼───────────────┤\n",
       "│ dense (\u001b[38;5;33mDense\u001b[0m)                   │ (\u001b[38;5;45mNone\u001b[0m, \u001b[38;5;34m128\u001b[0m)            │   \u001b[38;5;34m119,691,392\u001b[0m │\n",
       "├─────────────────────────────────┼────────────────────────┼───────────────┤\n",
       "│ dense_1 (\u001b[38;5;33mDense\u001b[0m)                 │ (\u001b[38;5;45mNone\u001b[0m, \u001b[38;5;34m64\u001b[0m)             │         \u001b[38;5;34m8,256\u001b[0m │\n",
       "├─────────────────────────────────┼────────────────────────┼───────────────┤\n",
       "│ dense_2 (\u001b[38;5;33mDense\u001b[0m)                 │ (\u001b[38;5;45mNone\u001b[0m, \u001b[38;5;34m3\u001b[0m)              │           \u001b[38;5;34m195\u001b[0m │\n",
       "└─────────────────────────────────┴────────────────────────┴───────────────┘\n"
      ]
     },
     "metadata": {},
     "output_type": "display_data"
    },
    {
     "data": {
      "text/html": [
       "<pre style=\"white-space:pre;overflow-x:auto;line-height:normal;font-family:Menlo,'DejaVu Sans Mono',consolas,'Courier New',monospace\"><span style=\"font-weight: bold\"> Total params: </span><span style=\"color: #00af00; text-decoration-color: #00af00\">119,699,843</span> (456.62 MB)\n",
       "</pre>\n"
      ],
      "text/plain": [
       "\u001b[1m Total params: \u001b[0m\u001b[38;5;34m119,699,843\u001b[0m (456.62 MB)\n"
      ]
     },
     "metadata": {},
     "output_type": "display_data"
    },
    {
     "data": {
      "text/html": [
       "<pre style=\"white-space:pre;overflow-x:auto;line-height:normal;font-family:Menlo,'DejaVu Sans Mono',consolas,'Courier New',monospace\"><span style=\"font-weight: bold\"> Trainable params: </span><span style=\"color: #00af00; text-decoration-color: #00af00\">119,699,843</span> (456.62 MB)\n",
       "</pre>\n"
      ],
      "text/plain": [
       "\u001b[1m Trainable params: \u001b[0m\u001b[38;5;34m119,699,843\u001b[0m (456.62 MB)\n"
      ]
     },
     "metadata": {},
     "output_type": "display_data"
    },
    {
     "data": {
      "text/html": [
       "<pre style=\"white-space:pre;overflow-x:auto;line-height:normal;font-family:Menlo,'DejaVu Sans Mono',consolas,'Courier New',monospace\"><span style=\"font-weight: bold\"> Non-trainable params: </span><span style=\"color: #00af00; text-decoration-color: #00af00\">0</span> (0.00 B)\n",
       "</pre>\n"
      ],
      "text/plain": [
       "\u001b[1m Non-trainable params: \u001b[0m\u001b[38;5;34m0\u001b[0m (0.00 B)\n"
      ]
     },
     "metadata": {},
     "output_type": "display_data"
    }
   ],
   "source": [
    "model.compile(optimizer='adam', loss='sparse_categorical_crossentropy', metrics=['accuracy'])\n",
    "\n",
    "model.summary()"
   ]
  },
  {
   "cell_type": "code",
   "execution_count": 51,
   "id": "12d861b439c92e0",
   "metadata": {
    "ExecuteTime": {
     "end_time": "2025-06-08T03:15:17.437949Z",
     "start_time": "2025-06-08T03:15:17.141160Z"
    }
   },
   "outputs": [
    {
     "name": "stdout",
     "output_type": "stream",
     "text": [
      "\u001b[1m1/1\u001b[0m \u001b[32m━━━━━━━━━━━━━━━━━━━━\u001b[0m\u001b[37m\u001b[0m \u001b[1m1s\u001b[0m 570ms/step - accuracy: 0.5600 - loss: 1.0065\n",
      "Loss (antes del entrenamiento):  1.006\n",
      "Accuracy (antes del entrenamiento):  0.560\n"
     ]
    }
   ],
   "source": [
    "for image_batch, label_batch in training_batches.take(1):\n",
    "    loss, accuracy_score = model.evaluate(image_batch, label_batch)\n",
    "\n",
    "print('Loss (antes del entrenamiento): ', format(loss, '.3f'))\n",
    "print('Accuracy (antes del entrenamiento): ', format(accuracy_score, '.3f'))"
   ]
  },
  {
   "cell_type": "code",
   "execution_count": 52,
   "id": "3eef60245e423cec",
   "metadata": {
    "ExecuteTime": {
     "end_time": "2025-06-08T03:15:50.596737Z",
     "start_time": "2025-06-08T03:15:17.461497Z"
    }
   },
   "outputs": [
    {
     "name": "stdout",
     "output_type": "stream",
     "text": [
      "Epoch 1/10\n",
      "\u001b[1m9/9\u001b[0m \u001b[32m━━━━━━━━━━━━━━━━━━━━\u001b[0m\u001b[37m\u001b[0m \u001b[1m21s\u001b[0m 2s/step - accuracy: 0.5616 - loss: 111.8591\n",
      "Epoch 2/10\n",
      "\u001b[1m9/9\u001b[0m \u001b[32m━━━━━━━━━━━━━━━━━━━━\u001b[0m\u001b[37m\u001b[0m \u001b[1m14s\u001b[0m 1s/step - accuracy: 0.5205 - loss: 80.8045\n",
      "Epoch 3/10\n",
      "\u001b[1m9/9\u001b[0m \u001b[32m━━━━━━━━━━━━━━━━━━━━\u001b[0m\u001b[37m\u001b[0m \u001b[1m20s\u001b[0m 1s/step - accuracy: 0.5662 - loss: 32.2183\n",
      "Epoch 4/10\n",
      "\u001b[1m9/9\u001b[0m \u001b[32m━━━━━━━━━━━━━━━━━━━━\u001b[0m\u001b[37m\u001b[0m \u001b[1m13s\u001b[0m 1s/step - accuracy: 0.5160 - loss: 17.1491\n",
      "Epoch 5/10\n",
      "\u001b[1m9/9\u001b[0m \u001b[32m━━━━━━━━━━━━━━━━━━━━\u001b[0m\u001b[37m\u001b[0m \u001b[1m13s\u001b[0m 1s/step - accuracy: 0.6301 - loss: 18.4717\n",
      "Epoch 6/10\n",
      "\u001b[1m9/9\u001b[0m \u001b[32m━━━━━━━━━━━━━━━━━━━━\u001b[0m\u001b[37m\u001b[0m \u001b[1m13s\u001b[0m 1s/step - accuracy: 0.5068 - loss: 16.9506\n",
      "Epoch 7/10\n",
      "\u001b[1m9/9\u001b[0m \u001b[32m━━━━━━━━━━━━━━━━━━━━\u001b[0m\u001b[37m\u001b[0m \u001b[1m13s\u001b[0m 1s/step - accuracy: 0.5388 - loss: 10.7153\n",
      "Epoch 8/10\n",
      "\u001b[1m9/9\u001b[0m \u001b[32m━━━━━━━━━━━━━━━━━━━━\u001b[0m\u001b[37m\u001b[0m \u001b[1m13s\u001b[0m 1s/step - accuracy: 0.5434 - loss: 23.2391\n",
      "Epoch 9/10\n",
      "\u001b[1m9/9\u001b[0m \u001b[32m━━━━━━━━━━━━━━━━━━━━\u001b[0m\u001b[37m\u001b[0m \u001b[1m21s\u001b[0m 1s/step - accuracy: 0.5297 - loss: 14.7034\n",
      "Epoch 10/10\n",
      "\u001b[1m9/9\u001b[0m \u001b[32m━━━━━━━━━━━━━━━━━━━━\u001b[0m\u001b[37m\u001b[0m \u001b[1m13s\u001b[0m 1s/step - accuracy: 0.6530 - loss: 18.9485\n"
     ]
    }
   ],
   "source": [
    "EPOCH = 10\n",
    "\n",
    "history = model.fit(training_batches, epochs=EPOCH)"
   ]
  },
  {
   "cell_type": "code",
   "execution_count": 53,
   "id": "1e118eefd6b8486b",
   "metadata": {
    "ExecuteTime": {
     "end_time": "2025-06-08T03:15:50.637106Z",
     "start_time": "2025-06-08T03:15:50.634243Z"
    }
   },
   "outputs": [
    {
     "name": "stdout",
     "output_type": "stream",
     "text": [
      "{'verbose': 'auto', 'epochs': 10, 'steps': 9}\n",
      "[111.85906219482422, 80.8045425415039, 32.21828079223633, 17.14906120300293, 18.471668243408203, 16.950584411621094, 10.715335845947266, 23.239107131958008, 14.703437805175781, 18.948488235473633]\n",
      "[0.5616438388824463, 0.5205479264259338, 0.5662100315093994, 0.5159817337989807, 0.6301369667053223, 0.5068492889404297, 0.5388127565383911, 0.543379008769989, 0.5296803712844849, 0.6529680490493774]\n"
     ]
    }
   ],
   "source": [
    "print(history.params)\n",
    "print(history.history['loss'])\n",
    "print(history.history['accuracy'])"
   ]
  },
  {
   "cell_type": "code",
   "execution_count": 54,
   "id": "8730dfd28f52bfb0",
   "metadata": {
    "ExecuteTime": {
     "end_time": "2025-06-08T03:16:40.183195Z",
     "start_time": "2025-06-08T03:16:39.961441Z"
    }
   },
   "outputs": [
    {
     "name": "stdout",
     "output_type": "stream",
     "text": [
      "\u001b[1m1/1\u001b[0m \u001b[32m━━━━━━━━━━━━━━━━━━━━\u001b[0m\u001b[37m\u001b[0m \u001b[1m1s\u001b[0m 640ms/step\n",
      "index:  16\n",
      "label:  tf.Tensor([0 0 2 1 0 0 0 0 0 2 0 0 0 0 2 2 1 0 0 0 1 1 0 0 0], shape=(25,), dtype=int64)\n",
      "probabilidades:  [1.2234482e-04 5.7101242e-30 9.9987769e-01]\n",
      "valor predicho:  2\n",
      "valor verdadero:  tf.Tensor(1, shape=(), dtype=int64)\n"
     ]
    },
    {
     "data": {
      "image/png": "[encoded data removed]",
      "text/plain": [
       "<Figure size 900x1200 with 2 Axes>"
      ]
     },
     "metadata": {},
     "output_type": "display_data"
    }
   ],
   "source": [
    "import random\n",
    "\n",
    "index = 0\n",
    "\n",
    "for image_batch, label_batch in testing_batches.take(1):\n",
    "    ps = model.predict(image_batch)\n",
    "    index = random.randint(0, len(label_batch)-1)\n",
    "    print(\"index: \", index)\n",
    "    print(\"label: \", label_batch)\n",
    "    first_image = image_batch.numpy().squeeze()[index]\n",
    "    print(\"probabilidades: \", ps[index])\n",
    "    print(\"valor predicho: \", np.argmax(ps[index]))\n",
    "    print(\"valor verdadero: \", label_batch[index])\n",
    "\n",
    "fig, (ax1, ax2) = plt.subplots(figsize=(9, 12), ncols=2)\n",
    "ax1.imshow(first_image)\n",
    "ax1.axis('off')\n",
    "ax2.barh(np.arange(3), ps[index])\n",
    "ax2.set_aspect(0.1)\n",
    "ax2.set_yticks(np.arange(3))\n",
    "ax2.set_yticklabels([\"No Glaucoma\", \"Glaucoma\", \"Sospechoso\"])\n",
    "ax2.set_title('Probabilidad')\n",
    "ax2.set_xlim(0, 1.05)\n",
    "plt.tight_layout()\n"
   ]
  },
  {
   "cell_type": "code",
   "execution_count": 56,
   "id": "e6c5f8436b256abe",
   "metadata": {
    "ExecuteTime": {
     "end_time": "2025-06-08T03:15:56.501797Z",
     "start_time": "2025-06-08T03:15:50.939562Z"
    }
   },
   "outputs": [],
   "source": [
    "# %mkdir saved_model\n",
    "import gc\n",
    "\n",
    "# Liberar memoria antes de guardar\n",
    "# gc.collect()\n",
    "# tf.keras.backend.clear_session()\n",
    "\n",
    "\n",
    "model.save('saved_model/sequential_glaucoma.keras')"
   ]
  },
  {
   "cell_type": "code",
   "execution_count": null,
   "id": "1f3fb94a407d055b",
   "metadata": {
    "ExecuteTime": {
     "end_time": "2025-06-08T03:15:56.527816Z",
     "start_time": "2025-06-08T03:15:56.525657Z"
    }
   },
   "outputs": [],
   "source": []
  }
 ],
 "metadata": {
  "kernelspec": {
   "display_name": "m13_proyecto_glaucoma",
   "language": "python",
   "name": "python3"
  },
  "language_info": {
   "codemirror_mode": {
    "name": "ipython",
    "version": 3
   },
   "file_extension": ".py",
   "mimetype": "text/x-python",
   "name": "python",
   "nbconvert_exporter": "python",
   "pygments_lexer": "ipython3",
   "version": "3.10.18"
  }
 },
 "nbformat": 4,
 "nbformat_minor": 5
}
