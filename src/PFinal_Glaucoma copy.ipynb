{
 "cells": [
  {
   "cell_type": "markdown",
   "id": "82938d148b6f3920",
   "metadata": {},
   "source": [
    "### importar librerías"
   ]
  },
  {
   "cell_type": "code",
   "execution_count": 1,
   "id": "initial_id",
   "metadata": {
    "ExecuteTime": {
     "end_time": "2025-06-08T03:15:10.783592Z",
     "start_time": "2025-06-08T03:15:10.780229Z"
    },
    "collapsed": true
   },
   "outputs": [],
   "source": [
    "import os\n",
    "import random\n",
    "from calendar import EPOCH\n",
    "\n",
    "import pandas as pd\n",
    "import numpy as np\n",
    "import matplotlib.pyplot as plt\n",
    "import pickle\n",
    "\n",
    "from alembic.command import history\n",
    "from keras.src.metrics.metrics_utils import confusion_matrix\n",
    "from sklearn.model_selection import train_test_split\n",
    "from sklearn.metrics import accuracy_score, precision_score, recall_score, log_loss, confusion_matrix, roc_curve, ConfusionMatrixDisplay, RocCurveDisplay\n",
    "\n",
    "import tensorflow as tf\n",
    "import tensorflow_datasets as tfds\n",
    "from tensorflow.keras.preprocessing.image import load_img, img_to_array\n",
    "from tensorflow.python.keras.saving.saved_model.load import training_lib\n",
    "\n",
    "IMAGES_DIR = \"../data/papila-db/FundusImages/\""
   ]
  },
  {
   "cell_type": "markdown",
   "id": "a7820ee57109d2b3",
   "metadata": {},
   "source": [
    "### obtener datos"
   ]
  },
  {
   "cell_type": "code",
   "execution_count": 2,
   "id": "70582edb",
   "metadata": {},
   "outputs": [],
   "source": [
    "import openpyxl\n",
    "df_od = pd.read_excel(\"../data/papila-db/ClinicalData/patient_data_od.xlsx\", header=1, skiprows=[2])\n",
    "df_os = pd.read_excel(\"../data/papila-db/ClinicalData/patient_data_os.xlsx\", header=1, skiprows=[2])"
   ]
  },
  {
   "cell_type": "code",
   "execution_count": 3,
   "id": "6d333e8b5c01d782",
   "metadata": {
    "ExecuteTime": {
     "end_time": "2025-06-08T03:15:10.878208Z",
     "start_time": "2025-06-08T03:15:10.868657Z"
    }
   },
   "outputs": [
    {
     "data": {
      "text/html": [
       "<div>\n",
       "<style scoped>\n",
       "    .dataframe tbody tr th:only-of-type {\n",
       "        vertical-align: middle;\n",
       "    }\n",
       "\n",
       "    .dataframe tbody tr th {\n",
       "        vertical-align: top;\n",
       "    }\n",
       "\n",
       "    .dataframe thead th {\n",
       "        text-align: right;\n",
       "    }\n",
       "</style>\n",
       "<table border=\"1\" class=\"dataframe\">\n",
       "  <thead>\n",
       "    <tr style=\"text-align: right;\">\n",
       "      <th></th>\n",
       "      <th>Unnamed: 0</th>\n",
       "      <th>Age</th>\n",
       "      <th>Gender</th>\n",
       "      <th>Diagnosis</th>\n",
       "      <th>dioptre_1</th>\n",
       "      <th>dioptre_2</th>\n",
       "      <th>astigmatism</th>\n",
       "      <th>Phakic/Pseudophakic</th>\n",
       "      <th>Pneumatic</th>\n",
       "      <th>Perkins</th>\n",
       "      <th>Pachymetry</th>\n",
       "      <th>Axial_Length</th>\n",
       "      <th>VF_MD</th>\n",
       "    </tr>\n",
       "  </thead>\n",
       "  <tbody>\n",
       "    <tr>\n",
       "      <th>0</th>\n",
       "      <td>#002</td>\n",
       "      <td>47</td>\n",
       "      <td>0</td>\n",
       "      <td>2</td>\n",
       "      <td>0.75</td>\n",
       "      <td>-1.75</td>\n",
       "      <td>90.0</td>\n",
       "      <td>0.0</td>\n",
       "      <td>21.0</td>\n",
       "      <td>NaN</td>\n",
       "      <td>586.0</td>\n",
       "      <td>23.64</td>\n",
       "      <td>-0.07</td>\n",
       "    </tr>\n",
       "    <tr>\n",
       "      <th>1</th>\n",
       "      <td>#004</td>\n",
       "      <td>58</td>\n",
       "      <td>1</td>\n",
       "      <td>1</td>\n",
       "      <td>1.50</td>\n",
       "      <td>-1.75</td>\n",
       "      <td>85.0</td>\n",
       "      <td>0.0</td>\n",
       "      <td>NaN</td>\n",
       "      <td>19.0</td>\n",
       "      <td>501.0</td>\n",
       "      <td>23.06</td>\n",
       "      <td>-3.26</td>\n",
       "    </tr>\n",
       "    <tr>\n",
       "      <th>2</th>\n",
       "      <td>#005</td>\n",
       "      <td>89</td>\n",
       "      <td>1</td>\n",
       "      <td>1</td>\n",
       "      <td>-0.75</td>\n",
       "      <td>-1.25</td>\n",
       "      <td>101.0</td>\n",
       "      <td>1.0</td>\n",
       "      <td>13.0</td>\n",
       "      <td>14.0</td>\n",
       "      <td>565.0</td>\n",
       "      <td>23.81</td>\n",
       "      <td>-14.98</td>\n",
       "    </tr>\n",
       "    <tr>\n",
       "      <th>3</th>\n",
       "      <td>#006</td>\n",
       "      <td>69</td>\n",
       "      <td>0</td>\n",
       "      <td>2</td>\n",
       "      <td>1.00</td>\n",
       "      <td>-1.50</td>\n",
       "      <td>95.0</td>\n",
       "      <td>0.0</td>\n",
       "      <td>22.0</td>\n",
       "      <td>NaN</td>\n",
       "      <td>612.0</td>\n",
       "      <td>26.25</td>\n",
       "      <td>-2.07</td>\n",
       "    </tr>\n",
       "    <tr>\n",
       "      <th>4</th>\n",
       "      <td>#007</td>\n",
       "      <td>22</td>\n",
       "      <td>1</td>\n",
       "      <td>2</td>\n",
       "      <td>-0.25</td>\n",
       "      <td>0.00</td>\n",
       "      <td>0.0</td>\n",
       "      <td>0.0</td>\n",
       "      <td>14.0</td>\n",
       "      <td>NaN</td>\n",
       "      <td>NaN</td>\n",
       "      <td>23.39</td>\n",
       "      <td>-2.30</td>\n",
       "    </tr>\n",
       "    <tr>\n",
       "      <th>...</th>\n",
       "      <td>...</td>\n",
       "      <td>...</td>\n",
       "      <td>...</td>\n",
       "      <td>...</td>\n",
       "      <td>...</td>\n",
       "      <td>...</td>\n",
       "      <td>...</td>\n",
       "      <td>...</td>\n",
       "      <td>...</td>\n",
       "      <td>...</td>\n",
       "      <td>...</td>\n",
       "      <td>...</td>\n",
       "      <td>...</td>\n",
       "    </tr>\n",
       "    <tr>\n",
       "      <th>239</th>\n",
       "      <td>#289</td>\n",
       "      <td>64</td>\n",
       "      <td>0</td>\n",
       "      <td>0</td>\n",
       "      <td>0.50</td>\n",
       "      <td>-1.00</td>\n",
       "      <td>120.0</td>\n",
       "      <td>1.0</td>\n",
       "      <td>12.0</td>\n",
       "      <td>NaN</td>\n",
       "      <td>529.0</td>\n",
       "      <td>22.27</td>\n",
       "      <td>NaN</td>\n",
       "    </tr>\n",
       "    <tr>\n",
       "      <th>240</th>\n",
       "      <td>#290</td>\n",
       "      <td>75</td>\n",
       "      <td>1</td>\n",
       "      <td>0</td>\n",
       "      <td>0.25</td>\n",
       "      <td>-0.25</td>\n",
       "      <td>5.0</td>\n",
       "      <td>1.0</td>\n",
       "      <td>14.0</td>\n",
       "      <td>NaN</td>\n",
       "      <td>577.0</td>\n",
       "      <td>22.00</td>\n",
       "      <td>NaN</td>\n",
       "    </tr>\n",
       "    <tr>\n",
       "      <th>241</th>\n",
       "      <td>#291</td>\n",
       "      <td>55</td>\n",
       "      <td>0</td>\n",
       "      <td>0</td>\n",
       "      <td>1.25</td>\n",
       "      <td>-1.25</td>\n",
       "      <td>92.0</td>\n",
       "      <td>0.0</td>\n",
       "      <td>12.0</td>\n",
       "      <td>NaN</td>\n",
       "      <td>452.0</td>\n",
       "      <td>23.53</td>\n",
       "      <td>NaN</td>\n",
       "    </tr>\n",
       "    <tr>\n",
       "      <th>242</th>\n",
       "      <td>#292</td>\n",
       "      <td>56</td>\n",
       "      <td>1</td>\n",
       "      <td>0</td>\n",
       "      <td>1.75</td>\n",
       "      <td>-1.50</td>\n",
       "      <td>73.0</td>\n",
       "      <td>0.0</td>\n",
       "      <td>10.0</td>\n",
       "      <td>NaN</td>\n",
       "      <td>499.0</td>\n",
       "      <td>23.68</td>\n",
       "      <td>NaN</td>\n",
       "    </tr>\n",
       "    <tr>\n",
       "      <th>243</th>\n",
       "      <td>#293</td>\n",
       "      <td>39</td>\n",
       "      <td>1</td>\n",
       "      <td>0</td>\n",
       "      <td>-0.25</td>\n",
       "      <td>-0.75</td>\n",
       "      <td>155.0</td>\n",
       "      <td>0.0</td>\n",
       "      <td>12.0</td>\n",
       "      <td>NaN</td>\n",
       "      <td>480.0</td>\n",
       "      <td>24.00</td>\n",
       "      <td>NaN</td>\n",
       "    </tr>\n",
       "  </tbody>\n",
       "</table>\n",
       "<p>244 rows × 13 columns</p>\n",
       "</div>"
      ],
      "text/plain": [
       "    Unnamed: 0  Age  Gender  Diagnosis  dioptre_1  dioptre_2  astigmatism  \\\n",
       "0         #002   47       0          2       0.75      -1.75         90.0   \n",
       "1         #004   58       1          1       1.50      -1.75         85.0   \n",
       "2         #005   89       1          1      -0.75      -1.25        101.0   \n",
       "3         #006   69       0          2       1.00      -1.50         95.0   \n",
       "4         #007   22       1          2      -0.25       0.00          0.0   \n",
       "..         ...  ...     ...        ...        ...        ...          ...   \n",
       "239       #289   64       0          0       0.50      -1.00        120.0   \n",
       "240       #290   75       1          0       0.25      -0.25          5.0   \n",
       "241       #291   55       0          0       1.25      -1.25         92.0   \n",
       "242       #292   56       1          0       1.75      -1.50         73.0   \n",
       "243       #293   39       1          0      -0.25      -0.75        155.0   \n",
       "\n",
       "     Phakic/Pseudophakic  Pneumatic  Perkins  Pachymetry  Axial_Length  VF_MD  \n",
       "0                    0.0       21.0      NaN       586.0         23.64  -0.07  \n",
       "1                    0.0        NaN     19.0       501.0         23.06  -3.26  \n",
       "2                    1.0       13.0     14.0       565.0         23.81 -14.98  \n",
       "3                    0.0       22.0      NaN       612.0         26.25  -2.07  \n",
       "4                    0.0       14.0      NaN         NaN         23.39  -2.30  \n",
       "..                   ...        ...      ...         ...           ...    ...  \n",
       "239                  1.0       12.0      NaN       529.0         22.27    NaN  \n",
       "240                  1.0       14.0      NaN       577.0         22.00    NaN  \n",
       "241                  0.0       12.0      NaN       452.0         23.53    NaN  \n",
       "242                  0.0       10.0      NaN       499.0         23.68    NaN  \n",
       "243                  0.0       12.0      NaN       480.0         24.00    NaN  \n",
       "\n",
       "[244 rows x 13 columns]"
      ]
     },
     "execution_count": 3,
     "metadata": {},
     "output_type": "execute_result"
    }
   ],
   "source": [
    "df_od"
   ]
  },
  {
   "cell_type": "code",
   "execution_count": 4,
   "id": "8e592df22b24dfce",
   "metadata": {
    "ExecuteTime": {
     "end_time": "2025-06-08T03:15:10.936792Z",
     "start_time": "2025-06-08T03:15:10.925624Z"
    }
   },
   "outputs": [
    {
     "data": {
      "text/html": [
       "<div>\n",
       "<style scoped>\n",
       "    .dataframe tbody tr th:only-of-type {\n",
       "        vertical-align: middle;\n",
       "    }\n",
       "\n",
       "    .dataframe tbody tr th {\n",
       "        vertical-align: top;\n",
       "    }\n",
       "\n",
       "    .dataframe thead th {\n",
       "        text-align: right;\n",
       "    }\n",
       "</style>\n",
       "<table border=\"1\" class=\"dataframe\">\n",
       "  <thead>\n",
       "    <tr style=\"text-align: right;\">\n",
       "      <th></th>\n",
       "      <th>Unnamed: 0</th>\n",
       "      <th>Age</th>\n",
       "      <th>Gender</th>\n",
       "      <th>Diagnosis</th>\n",
       "      <th>dioptre_1</th>\n",
       "      <th>dioptre_2</th>\n",
       "      <th>astigmatism</th>\n",
       "      <th>Phakic/Pseudophakic</th>\n",
       "      <th>Pneumatic</th>\n",
       "      <th>Perkins</th>\n",
       "      <th>Pachymetry</th>\n",
       "      <th>Axial_Length</th>\n",
       "      <th>VF_MD</th>\n",
       "    </tr>\n",
       "  </thead>\n",
       "  <tbody>\n",
       "    <tr>\n",
       "      <th>0</th>\n",
       "      <td>#002</td>\n",
       "      <td>47</td>\n",
       "      <td>0</td>\n",
       "      <td>2</td>\n",
       "      <td>-0.50</td>\n",
       "      <td>-1.50</td>\n",
       "      <td>88.0</td>\n",
       "      <td>0.0</td>\n",
       "      <td>20.0</td>\n",
       "      <td>NaN</td>\n",
       "      <td>603.0</td>\n",
       "      <td>23.77</td>\n",
       "      <td>0.17</td>\n",
       "    </tr>\n",
       "    <tr>\n",
       "      <th>1</th>\n",
       "      <td>#004</td>\n",
       "      <td>58</td>\n",
       "      <td>1</td>\n",
       "      <td>1</td>\n",
       "      <td>1.50</td>\n",
       "      <td>-2.50</td>\n",
       "      <td>85.0</td>\n",
       "      <td>1.0</td>\n",
       "      <td>NaN</td>\n",
       "      <td>19.0</td>\n",
       "      <td>511.0</td>\n",
       "      <td>22.96</td>\n",
       "      <td>-6.77</td>\n",
       "    </tr>\n",
       "    <tr>\n",
       "      <th>2</th>\n",
       "      <td>#005</td>\n",
       "      <td>89</td>\n",
       "      <td>1</td>\n",
       "      <td>1</td>\n",
       "      <td>-0.50</td>\n",
       "      <td>-2.00</td>\n",
       "      <td>100.0</td>\n",
       "      <td>1.0</td>\n",
       "      <td>24.0</td>\n",
       "      <td>10.0</td>\n",
       "      <td>575.0</td>\n",
       "      <td>24.33</td>\n",
       "      <td>-7.44</td>\n",
       "    </tr>\n",
       "    <tr>\n",
       "      <th>3</th>\n",
       "      <td>#006</td>\n",
       "      <td>69</td>\n",
       "      <td>0</td>\n",
       "      <td>2</td>\n",
       "      <td>1.00</td>\n",
       "      <td>-1.50</td>\n",
       "      <td>85.0</td>\n",
       "      <td>0.0</td>\n",
       "      <td>22.0</td>\n",
       "      <td>NaN</td>\n",
       "      <td>593.0</td>\n",
       "      <td>26.21</td>\n",
       "      <td>-3.31</td>\n",
       "    </tr>\n",
       "    <tr>\n",
       "      <th>4</th>\n",
       "      <td>#007</td>\n",
       "      <td>22</td>\n",
       "      <td>1</td>\n",
       "      <td>2</td>\n",
       "      <td>-0.25</td>\n",
       "      <td>-0.50</td>\n",
       "      <td>0.0</td>\n",
       "      <td>0.0</td>\n",
       "      <td>13.0</td>\n",
       "      <td>NaN</td>\n",
       "      <td>NaN</td>\n",
       "      <td>23.35</td>\n",
       "      <td>-2.61</td>\n",
       "    </tr>\n",
       "    <tr>\n",
       "      <th>...</th>\n",
       "      <td>...</td>\n",
       "      <td>...</td>\n",
       "      <td>...</td>\n",
       "      <td>...</td>\n",
       "      <td>...</td>\n",
       "      <td>...</td>\n",
       "      <td>...</td>\n",
       "      <td>...</td>\n",
       "      <td>...</td>\n",
       "      <td>...</td>\n",
       "      <td>...</td>\n",
       "      <td>...</td>\n",
       "      <td>...</td>\n",
       "    </tr>\n",
       "    <tr>\n",
       "      <th>239</th>\n",
       "      <td>#289</td>\n",
       "      <td>64</td>\n",
       "      <td>0</td>\n",
       "      <td>0</td>\n",
       "      <td>0.75</td>\n",
       "      <td>-1.50</td>\n",
       "      <td>93.0</td>\n",
       "      <td>1.0</td>\n",
       "      <td>10.0</td>\n",
       "      <td>NaN</td>\n",
       "      <td>531.0</td>\n",
       "      <td>22.31</td>\n",
       "      <td>NaN</td>\n",
       "    </tr>\n",
       "    <tr>\n",
       "      <th>240</th>\n",
       "      <td>#290</td>\n",
       "      <td>75</td>\n",
       "      <td>1</td>\n",
       "      <td>0</td>\n",
       "      <td>0.25</td>\n",
       "      <td>-0.25</td>\n",
       "      <td>160.0</td>\n",
       "      <td>1.0</td>\n",
       "      <td>19.0</td>\n",
       "      <td>NaN</td>\n",
       "      <td>573.0</td>\n",
       "      <td>22.01</td>\n",
       "      <td>NaN</td>\n",
       "    </tr>\n",
       "    <tr>\n",
       "      <th>241</th>\n",
       "      <td>#291</td>\n",
       "      <td>55</td>\n",
       "      <td>0</td>\n",
       "      <td>0</td>\n",
       "      <td>1.50</td>\n",
       "      <td>-1.25</td>\n",
       "      <td>76.0</td>\n",
       "      <td>0.0</td>\n",
       "      <td>14.0</td>\n",
       "      <td>NaN</td>\n",
       "      <td>443.0</td>\n",
       "      <td>23.51</td>\n",
       "      <td>NaN</td>\n",
       "    </tr>\n",
       "    <tr>\n",
       "      <th>242</th>\n",
       "      <td>#292</td>\n",
       "      <td>56</td>\n",
       "      <td>1</td>\n",
       "      <td>0</td>\n",
       "      <td>1.25</td>\n",
       "      <td>-0.75</td>\n",
       "      <td>79.0</td>\n",
       "      <td>0.0</td>\n",
       "      <td>9.0</td>\n",
       "      <td>NaN</td>\n",
       "      <td>479.0</td>\n",
       "      <td>23.84</td>\n",
       "      <td>NaN</td>\n",
       "    </tr>\n",
       "    <tr>\n",
       "      <th>243</th>\n",
       "      <td>#293</td>\n",
       "      <td>39</td>\n",
       "      <td>1</td>\n",
       "      <td>0</td>\n",
       "      <td>-0.75</td>\n",
       "      <td>-0.25</td>\n",
       "      <td>110.0</td>\n",
       "      <td>0.0</td>\n",
       "      <td>14.0</td>\n",
       "      <td>NaN</td>\n",
       "      <td>468.0</td>\n",
       "      <td>24.00</td>\n",
       "      <td>NaN</td>\n",
       "    </tr>\n",
       "  </tbody>\n",
       "</table>\n",
       "<p>244 rows × 13 columns</p>\n",
       "</div>"
      ],
      "text/plain": [
       "    Unnamed: 0  Age  Gender  Diagnosis  dioptre_1  dioptre_2  astigmatism  \\\n",
       "0         #002   47       0          2      -0.50      -1.50         88.0   \n",
       "1         #004   58       1          1       1.50      -2.50         85.0   \n",
       "2         #005   89       1          1      -0.50      -2.00        100.0   \n",
       "3         #006   69       0          2       1.00      -1.50         85.0   \n",
       "4         #007   22       1          2      -0.25      -0.50          0.0   \n",
       "..         ...  ...     ...        ...        ...        ...          ...   \n",
       "239       #289   64       0          0       0.75      -1.50         93.0   \n",
       "240       #290   75       1          0       0.25      -0.25        160.0   \n",
       "241       #291   55       0          0       1.50      -1.25         76.0   \n",
       "242       #292   56       1          0       1.25      -0.75         79.0   \n",
       "243       #293   39       1          0      -0.75      -0.25        110.0   \n",
       "\n",
       "     Phakic/Pseudophakic  Pneumatic  Perkins  Pachymetry  Axial_Length  VF_MD  \n",
       "0                    0.0       20.0      NaN       603.0         23.77   0.17  \n",
       "1                    1.0        NaN     19.0       511.0         22.96  -6.77  \n",
       "2                    1.0       24.0     10.0       575.0         24.33  -7.44  \n",
       "3                    0.0       22.0      NaN       593.0         26.21  -3.31  \n",
       "4                    0.0       13.0      NaN         NaN         23.35  -2.61  \n",
       "..                   ...        ...      ...         ...           ...    ...  \n",
       "239                  1.0       10.0      NaN       531.0         22.31    NaN  \n",
       "240                  1.0       19.0      NaN       573.0         22.01    NaN  \n",
       "241                  0.0       14.0      NaN       443.0         23.51    NaN  \n",
       "242                  0.0        9.0      NaN       479.0         23.84    NaN  \n",
       "243                  0.0       14.0      NaN       468.0         24.00    NaN  \n",
       "\n",
       "[244 rows x 13 columns]"
      ]
     },
     "execution_count": 4,
     "metadata": {},
     "output_type": "execute_result"
    }
   ],
   "source": [
    "df_os"
   ]
  },
  {
   "cell_type": "code",
   "execution_count": 5,
   "id": "e127e4ff16387ae7",
   "metadata": {
    "ExecuteTime": {
     "end_time": "2025-06-08T03:15:11.038072Z",
     "start_time": "2025-06-08T03:15:11.025706Z"
    }
   },
   "outputs": [
    {
     "data": {
      "text/plain": [
       "(0      RET002OD.jpg\n",
       " 1      RET004OD.jpg\n",
       " 2      RET005OD.jpg\n",
       " 3      RET006OD.jpg\n",
       " 4      RET007OD.jpg\n",
       "            ...     \n",
       " 239    RET289OD.jpg\n",
       " 240    RET290OD.jpg\n",
       " 241    RET291OD.jpg\n",
       " 242    RET292OD.jpg\n",
       " 243    RET293OD.jpg\n",
       " Name: Unnamed: 0, Length: 244, dtype: object,\n",
       " 0      2\n",
       " 1      1\n",
       " 2      1\n",
       " 3      2\n",
       " 4      2\n",
       "       ..\n",
       " 239    0\n",
       " 240    0\n",
       " 241    0\n",
       " 242    0\n",
       " 243    0\n",
       " Name: Diagnosis, Length: 244, dtype: int64)"
      ]
     },
     "execution_count": 5,
     "metadata": {},
     "output_type": "execute_result"
    }
   ],
   "source": [
    "X_od = \"RET\" + df_od[\"Unnamed: 0\"].astype(str).str[1:] + \"OD.jpg\"\n",
    "y_od = df_od[\"Diagnosis\"]\n",
    "\n",
    "X_od, y_od"
   ]
  },
  {
   "cell_type": "markdown",
   "id": "ae9194da39fd01b9",
   "metadata": {},
   "source": [
    "### cargar imagenes"
   ]
  },
  {
   "cell_type": "code",
   "execution_count": 6,
   "id": "2800faa8e217e9b9",
   "metadata": {
    "ExecuteTime": {
     "end_time": "2025-06-08T03:15:11.154035Z",
     "start_time": "2025-06-08T03:15:11.150056Z"
    }
   },
   "outputs": [],
   "source": [
    "import cv2\n",
    "\n",
    "def load_image(file_name):\n",
    "    try:\n",
    "        # Construye la ruta de forma segura\n",
    "        image_path = os.path.join(IMAGES_DIR, file_name)\n",
    "\n",
    "        img = cv2.imread(image_path)\n",
    "\n",
    "        # Verifica si la imagen se cargó correctamente ANTES de procesarla\n",
    "        if img is None:\n",
    "            print(f\"Alerta: No se pudo cargar la imagen. Archivo no encontrado en: {image_path}\")\n",
    "            return None\n",
    "\n",
    "        img = cv2.cvtColor(img, cv2.COLOR_BGR2RGB)\n",
    "        img = cv2.resize(img, (644, 484))\n",
    "        return img\n",
    "    except Exception as e:\n",
    "        # Usa un f-string para imprimir el error correctamente\n",
    "        print(f\"Error procesando la imagen '{file_name}': {e}\")\n",
    "        return None"
   ]
  },
  {
   "cell_type": "code",
   "execution_count": 7,
   "id": "27ec4ede3cfb9609",
   "metadata": {
    "ExecuteTime": {
     "end_time": "2025-06-08T03:15:16.474626Z",
     "start_time": "2025-06-08T03:15:11.229266Z"
    }
   },
   "outputs": [],
   "source": [
    "# Código Corregido\n",
    "# 1. Cargamos las imágenes en una lista temporal\n",
    "images_list = [load_image(file_name) for file_name in X_od]\n",
    "\n",
    "# 2. Filtramos los valores 'None' que resultaron de errores de carga\n",
    "X_od_filtered = [img for img in images_list if img is not None]\n",
    "\n",
    "# 3. Solo ahora creamos el array de NumPy con la lista limpia\n",
    "X_od = np.array(X_od_filtered)\n",
    "y_od = df_od[\"Diagnosis\"].values"
   ]
  },
  {
   "cell_type": "code",
   "execution_count": 8,
   "id": "71dc962e35324030",
   "metadata": {
    "ExecuteTime": {
     "end_time": "2025-06-08T03:15:16.497482Z",
     "start_time": "2025-06-08T03:15:16.494088Z"
    }
   },
   "outputs": [
    {
     "name": "stdout",
     "output_type": "stream",
     "text": [
      "Dimensión de imágenes: (244, 484, 644, 3)\n",
      "Total categorías: 3\n"
     ]
    }
   ],
   "source": [
    "print(f\"Dimensión de imágenes: {X_od.shape}\")\n",
    "print(f\"Total categorías: {len(np.unique(y_od))}\")"
   ]
  },
  {
   "cell_type": "markdown",
   "id": "d85820cd5d3df0b3",
   "metadata": {},
   "source": [
    "### dividir en train y test"
   ]
  },
  {
   "cell_type": "code",
   "execution_count": 9,
   "id": "f5328e7877c0f424",
   "metadata": {
    "ExecuteTime": {
     "end_time": "2025-06-08T03:15:16.572527Z",
     "start_time": "2025-06-08T03:15:16.519583Z"
    }
   },
   "outputs": [],
   "source": [
    "X_train, X_test, y_train, y_test = train_test_split(X_od, y_od, test_size=0.1, random_state=42)"
   ]
  },
  {
   "cell_type": "code",
   "execution_count": 10,
   "id": "d54dea81f60b5f03",
   "metadata": {
    "ExecuteTime": {
     "end_time": "2025-06-08T03:15:16.595833Z",
     "start_time": "2025-06-08T03:15:16.592561Z"
    }
   },
   "outputs": [
    {
     "name": "stdout",
     "output_type": "stream",
     "text": [
      "Tamaño del conjunto de entrenamiento: 219\n",
      "Tamaño del conjunto de prueba: 25\n"
     ]
    }
   ],
   "source": [
    "print(f\"Tamaño del conjunto de entrenamiento: {len(X_train)}\")\n",
    "print(f\"Tamaño del conjunto de prueba: {len(X_test)}\")"
   ]
  },
  {
   "cell_type": "markdown",
   "id": "90f5887c1a9807dd",
   "metadata": {},
   "source": [
    "### Normalizar y Cargado en Bloque"
   ]
  },
  {
   "cell_type": "code",
   "execution_count": null,
   "id": "ce9f84dacd621945",
   "metadata": {
    "ExecuteTime": {
     "end_time": "2025-06-08T03:15:16.627382Z",
     "start_time": "2025-06-08T03:15:16.624068Z"
    }
   },
   "outputs": [],
   "source": []
  },
  {
   "cell_type": "code",
   "execution_count": null,
   "id": "e7dd7f0ea6bdcc52",
   "metadata": {
    "ExecuteTime": {
     "end_time": "2025-06-08T03:15:16.844411Z",
     "start_time": "2025-06-08T03:15:16.657608Z"
    }
   },
   "outputs": [],
   "source": []
  },
  {
   "cell_type": "markdown",
   "id": "1ff8dca5065c9535",
   "metadata": {},
   "source": [
    "### Modelación"
   ]
  },
  {
   "cell_type": "code",
   "execution_count": null,
   "id": "af8148a45579333f",
   "metadata": {
    "ExecuteTime": {
     "end_time": "2025-06-08T03:15:17.085722Z",
     "start_time": "2025-06-08T03:15:16.869661Z"
    }
   },
   "outputs": [],
   "source": []
  },
  {
   "cell_type": "code",
   "execution_count": null,
   "id": "4c9f9f504c165739",
   "metadata": {
    "ExecuteTime": {
     "end_time": "2025-06-08T03:15:17.106770Z",
     "start_time": "2025-06-08T03:15:17.091808Z"
    }
   },
   "outputs": [],
   "source": []
  },
  {
   "cell_type": "code",
   "execution_count": null,
   "id": "12d861b439c92e0",
   "metadata": {
    "ExecuteTime": {
     "end_time": "2025-06-08T03:15:17.437949Z",
     "start_time": "2025-06-08T03:15:17.141160Z"
    }
   },
   "outputs": [],
   "source": []
  },
  {
   "cell_type": "code",
   "execution_count": null,
   "id": "3eef60245e423cec",
   "metadata": {
    "ExecuteTime": {
     "end_time": "2025-06-08T03:15:50.596737Z",
     "start_time": "2025-06-08T03:15:17.461497Z"
    }
   },
   "outputs": [],
   "source": []
  },
  {
   "cell_type": "code",
   "execution_count": null,
   "id": "1e118eefd6b8486b",
   "metadata": {
    "ExecuteTime": {
     "end_time": "2025-06-08T03:15:50.637106Z",
     "start_time": "2025-06-08T03:15:50.634243Z"
    }
   },
   "outputs": [],
   "source": []
  },
  {
   "cell_type": "code",
   "execution_count": null,
   "id": "8730dfd28f52bfb0",
   "metadata": {
    "ExecuteTime": {
     "end_time": "2025-06-08T03:16:40.183195Z",
     "start_time": "2025-06-08T03:16:39.961441Z"
    }
   },
   "outputs": [],
   "source": []
  },
  {
   "cell_type": "code",
   "execution_count": 13,
   "id": "e6c5f8436b256abe",
   "metadata": {
    "ExecuteTime": {
     "end_time": "2025-06-08T03:15:56.501797Z",
     "start_time": "2025-06-08T03:15:50.939562Z"
    }
   },
   "outputs": [],
   "source": [
    "def normalize(image, label):\n",
    "    image = tf.cast(image, tf.float32)\n",
    "    image /= 255\n",
    "    return image, label\n",
    "\n",
    "def prepare_subset(images, labels, batch_size):\n",
    "    subset = tf.data.Dataset.from_tensor_slices((images, labels))\n",
    "    batches = subset.cache()\n",
    "    batches = batches.shuffle(len(images) // 4)\n",
    "    batches = batches.batch(batch_size).map(normalize).prefetch(1)\n",
    "    return batches"
   ]
  },
  {
   "cell_type": "code",
   "execution_count": 11,
   "id": "1f3fb94a407d055b",
   "metadata": {
    "ExecuteTime": {
     "end_time": "2025-06-08T03:15:56.527816Z",
     "start_time": "2025-06-08T03:15:56.525657Z"
    }
   },
   "outputs": [
    {
     "name": "stdout",
     "output_type": "stream",
     "text": [
      "MLFlow Version: 3.3.2\n"
     ]
    }
   ],
   "source": [
    "import mlflow\n",
    "import mlflow.tensorflow\n",
    "\n",
    "print(f\"MLFlow Version: {mlflow.__version__}\")"
   ]
  },
  {
   "cell_type": "code",
   "execution_count": 14,
   "id": "7401b80c",
   "metadata": {},
   "outputs": [
    {
     "name": "stdout",
     "output_type": "stream",
     "text": [
      "--- Celda de Configuración Ejecutada ---\n",
      "--- Configuración lista. ---\n"
     ]
    }
   ],
   "source": [
    "# =======================================================================\n",
    "# CELDA A: CONFIGURACIÓN FINAL Y SIMPLIFICADA\n",
    "# =======================================================================\n",
    "import mlflow\n",
    "import mlflow.tensorflow\n",
    "import tensorflow as tf\n",
    "from tensorflow.keras.layers import Flatten, Dense\n",
    "import os\n",
    "\n",
    "print(\"--- Celda de Configuración Ejecutada ---\")\n",
    "\n",
    "def log_experiment_basic(experiment_name, run_name, params, model, history):\n",
    "    \"\"\"\n",
    "    Función simplificada que registra parámetros, métricas y el modelo\n",
    "    directamente desde la memoria, evitando las operaciones de archivo conflictivas.\n",
    "    \"\"\"\n",
    "    mlflow.set_experiment(experiment_name)\n",
    "    with mlflow.start_run(run_name=run_name) as run:\n",
    "        # Registrar parámetros y métricas\n",
    "        mlflow.log_params(params)\n",
    "        mlflow.log_metric(\"final_accuracy\", history.history['accuracy'][-1])\n",
    "        mlflow.log_metric(\"final_loss\", history.history['loss'][-1])\n",
    "\n",
    "        # Registrar el modelo directamente.\n",
    "        # Volveremos a ver la advertencia de la firma, pero la ejecución no fallará.\n",
    "        mlflow.tensorflow.log_model(\n",
    "            model=model,\n",
    "            artifact_path=\"model\",\n",
    "            registered_model_name=experiment_name\n",
    "        )\n",
    "        print(f'--- Run \"{run_name}\" registrado con éxito. ---')\n",
    "        return run.info.run_id\n",
    "\n",
    "# Parámetros comunes\n",
    "EPOCHS = 10\n",
    "BATCH_SIZE = 4 # Usamos un batch size pequeño para la memoria\n",
    "EXPERIMENT_NAME = \"papila-db\"\n",
    "IMAGE_SHAPE = (484, 644, 3)\n",
    "\n",
    "# Preparar lotes y datos de ejemplo\n",
    "training_batches = prepare_subset(X_train, y_train, BATCH_SIZE)\n",
    "\n",
    "print(\"--- Configuración lista. ---\")"
   ]
  },
  {
   "cell_type": "code",
   "execution_count": 15,
   "id": "1390e102",
   "metadata": {},
   "outputs": [
    {
     "name": "stdout",
     "output_type": "stream",
     "text": [
      "\n",
      "--- Entrenando Modelo 1: Red Densa ---\n",
      "WARNING:tensorflow:From c:\\Users\\darwi\\anaconda3\\envs\\m13_proyecto_glaucoma\\lib\\site-packages\\keras\\src\\backend\\common\\global_state.py:82: The name tf.reset_default_graph is deprecated. Please use tf.compat.v1.reset_default_graph instead.\n",
      "\n"
     ]
    },
    {
     "name": "stderr",
     "output_type": "stream",
     "text": [
      "c:\\Users\\darwi\\anaconda3\\envs\\m13_proyecto_glaucoma\\lib\\site-packages\\keras\\src\\layers\\reshaping\\flatten.py:37: UserWarning: Do not pass an `input_shape`/`input_dim` argument to a layer. When using Sequential models, prefer using an `Input(shape)` object as the first layer in the model instead.\n",
      "  super().__init__(**kwargs)\n"
     ]
    },
    {
     "name": "stdout",
     "output_type": "stream",
     "text": [
      "Epoch 1/10\n",
      "\u001b[1m55/55\u001b[0m \u001b[32m━━━━━━━━━━━━━━━━━━━━\u001b[0m\u001b[37m\u001b[0m \u001b[1m67s\u001b[0m 1s/step - accuracy: 0.5388 - loss: 82.2340\n",
      "Epoch 2/10\n",
      "\u001b[1m55/55\u001b[0m \u001b[32m━━━━━━━━━━━━━━━━━━━━\u001b[0m\u001b[37m\u001b[0m \u001b[1m65s\u001b[0m 1s/step - accuracy: 0.4840 - loss: 59.1169\n",
      "Epoch 3/10\n",
      "\u001b[1m55/55\u001b[0m \u001b[32m━━━━━━━━━━━━━━━━━━━━\u001b[0m\u001b[37m\u001b[0m \u001b[1m65s\u001b[0m 1s/step - accuracy: 0.5160 - loss: 25.1589\n",
      "Epoch 4/10\n",
      "\u001b[1m55/55\u001b[0m \u001b[32m━━━━━━━━━━━━━━━━━━━━\u001b[0m\u001b[37m\u001b[0m \u001b[1m65s\u001b[0m 1s/step - accuracy: 0.5799 - loss: 10.0365\n",
      "Epoch 5/10\n",
      "\u001b[1m55/55\u001b[0m \u001b[32m━━━━━━━━━━━━━━━━━━━━\u001b[0m\u001b[37m\u001b[0m \u001b[1m64s\u001b[0m 1s/step - accuracy: 0.5479 - loss: 4.4379\n",
      "Epoch 6/10\n",
      "\u001b[1m55/55\u001b[0m \u001b[32m━━━━━━━━━━━━━━━━━━━━\u001b[0m\u001b[37m\u001b[0m \u001b[1m60s\u001b[0m 1s/step - accuracy: 0.6119 - loss: 1.9524\n",
      "Epoch 7/10\n",
      "\u001b[1m55/55\u001b[0m \u001b[32m━━━━━━━━━━━━━━━━━━━━\u001b[0m\u001b[37m\u001b[0m \u001b[1m60s\u001b[0m 1s/step - accuracy: 0.5799 - loss: 2.6742\n",
      "Epoch 8/10\n",
      "\u001b[1m55/55\u001b[0m \u001b[32m━━━━━━━━━━━━━━━━━━━━\u001b[0m\u001b[37m\u001b[0m \u001b[1m60s\u001b[0m 1s/step - accuracy: 0.5388 - loss: 3.4239\n",
      "Epoch 9/10\n",
      "\u001b[1m55/55\u001b[0m \u001b[32m━━━━━━━━━━━━━━━━━━━━\u001b[0m\u001b[37m\u001b[0m \u001b[1m60s\u001b[0m 1s/step - accuracy: 0.5525 - loss: 1.8034\n",
      "Epoch 10/10\n",
      "\u001b[1m55/55\u001b[0m \u001b[32m━━━━━━━━━━━━━━━━━━━━\u001b[0m\u001b[37m\u001b[0m \u001b[1m60s\u001b[0m 1s/step - accuracy: 0.6073 - loss: 1.1600\n",
      "\n",
      "--- Entrenamiento del Modelo Denso FINALIZADO. ---\n"
     ]
    }
   ],
   "source": [
    "# =======================================================================\n",
    "# CELDA B: ENTRENAMIENTO del Modelo Denso\n",
    "# =======================================================================\n",
    "print(\"\\n--- Entrenando Modelo 1: Red Densa ---\")\n",
    "tf.keras.backend.clear_session()\n",
    "\n",
    "model_dense = tf.keras.models.Sequential([\n",
    "    Flatten(input_shape=IMAGE_SHAPE),\n",
    "    Dense(128, activation='relu'),\n",
    "    Dense(64, activation='relu'),\n",
    "    Dense(3, activation='softmax')\n",
    "])\n",
    "model_dense.compile(optimizer='adam', loss='sparse_categorical_crossentropy', metrics=['accuracy'])\n",
    "\n",
    "# Parámetros para esta ejecución\n",
    "params_dense = { \"model_architecture\": \"Dense_NN\", \"epochs\": EPOCHS, \"batch_size\": BATCH_SIZE }\n",
    "\n",
    "# Iniciar el entrenamiento\n",
    "history_dense = model_dense.fit(training_batches, epochs=EPOCHS, verbose=1)\n",
    "\n",
    "print(\"\\n--- Entrenamiento del Modelo Denso FINALIZADO. ---\")"
   ]
  },
  {
   "cell_type": "code",
   "execution_count": 16,
   "id": "2530d4cf",
   "metadata": {},
   "outputs": [
    {
     "name": "stdout",
     "output_type": "stream",
     "text": [
      "\n",
      "--- Registrando el Modelo Denso en MLFlow ---\n"
     ]
    },
    {
     "name": "stderr",
     "output_type": "stream",
     "text": [
      "2025/08/31 19:24:02 WARNING mlflow.models.model: `artifact_path` is deprecated. Please use `name` instead.\n",
      "2025/08/31 19:24:02 WARNING mlflow.tensorflow: You are saving a TensorFlow Core model or Keras model without a signature. Inference with mlflow.pyfunc.spark_udf() will not work unless the model's pyfunc representation accepts pandas DataFrames as inference inputs.\n",
      "2025/08/31 19:24:28 WARNING mlflow.models.model: Model logged without a signature and input example. Please set `input_example` parameter when logging the model to auto infer the model signature.\n",
      "Registered model 'papila-db' already exists. Creating a new version of this model...\n",
      "Created version '4' of model 'papila-db'.\n"
     ]
    },
    {
     "name": "stdout",
     "output_type": "stream",
     "text": [
      "--- Run \"dense_model_final_run\" registrado con éxito. ---\n",
      "\n",
      "--- Registro del Modelo Denso COMPLETADO. ---\n"
     ]
    }
   ],
   "source": [
    "# =======================================================================\n",
    "# CELDA C: REGISTRO del Modelo Denso\n",
    "# =======================================================================\n",
    "print(\"\\n--- Registrando el Modelo Denso en MLFlow ---\")\n",
    "\n",
    "# Esta llamada usa las variables 'model_dense' y 'history_dense' de la celda anterior\n",
    "log_experiment_basic(\n",
    "    experiment_name=EXPERIMENT_NAME,\n",
    "    run_name=\"dense_model_final_run\",\n",
    "    params=params_dense,\n",
    "    model=model_dense,\n",
    "    history=history_dense\n",
    ")\n",
    "\n",
    "print(\"\\n--- Registro del Modelo Denso COMPLETADO. ---\")"
   ]
  },
  {
   "cell_type": "code",
   "execution_count": null,
   "id": "cdf010be",
   "metadata": {},
   "outputs": [],
   "source": []
  }
 ],
 "metadata": {
  "kernelspec": {
   "display_name": "m13_proyecto_glaucoma",
   "language": "python",
   "name": "python3"
  },
  "language_info": {
   "codemirror_mode": {
    "name": "ipython",
    "version": 3
   },
   "file_extension": ".py",
   "mimetype": "text/x-python",
   "name": "python",
   "nbconvert_exporter": "python",
   "pygments_lexer": "ipython3",
   "version": "3.10.18"
  }
 },
 "nbformat": 4,
 "nbformat_minor": 5
}
